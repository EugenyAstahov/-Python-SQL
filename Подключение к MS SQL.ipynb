{
 "cells": [
  {
   "cell_type": "code",
   "execution_count": 3,
   "id": "f7ad0db6",
   "metadata": {},
   "outputs": [],
   "source": [
    "import pyodbc\n",
    "import pandas as pd"
   ]
  },
  {
   "cell_type": "code",
   "execution_count": 4,
   "id": "cc5f11ae",
   "metadata": {},
   "outputs": [],
   "source": [
    "# Задайте свои параметры подключения\n",
    "driver = 'SQL Server'\n",
    "server = ''\n",
    "database = ''"
   ]
  },
  {
   "cell_type": "code",
   "execution_count": 5,
   "id": "679062bf",
   "metadata": {},
   "outputs": [],
   "source": [
    "# Строка подключения\n",
    "connection_string = f'DRIVER={driver};SERVER={server};DATABASE={database}'"
   ]
  },
  {
   "cell_type": "code",
   "execution_count": 6,
   "id": "53a875fa",
   "metadata": {},
   "outputs": [],
   "source": [
    "# Установка соединения\n",
    "conn = pyodbc.connect(connection_string)"
   ]
  },
  {
   "cell_type": "code",
   "execution_count": 7,
   "id": "b229bf8f",
   "metadata": {},
   "outputs": [],
   "source": [
    "# SQL-запрос\n",
    "sql_query = 'SELECT * FROM table'"
   ]
  },
  {
   "cell_type": "code",
   "execution_count": 8,
   "id": "b38c035a",
   "metadata": {},
   "outputs": [],
   "source": [
    "# Загрузка данных в DataFrame\n",
    "df = pd.read_sql(sql_query, conn)"
   ]
  }
 ],
 "metadata": {
  "kernelspec": {
   "display_name": "Python 3 (ipykernel)",
   "language": "python",
   "name": "python3"
  },
  "language_info": {
   "codemirror_mode": {
    "name": "ipython",
    "version": 3
   },
   "file_extension": ".py",
   "mimetype": "text/x-python",
   "name": "python",
   "nbconvert_exporter": "python",
   "pygments_lexer": "ipython3",
   "version": "3.9.13"
  }
 },
 "nbformat": 4,
 "nbformat_minor": 5
}
