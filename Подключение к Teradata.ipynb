{
 "cells": [
  {
   "cell_type": "code",
   "execution_count": 1,
   "id": "a8db946d",
   "metadata": {},
   "outputs": [],
   "source": [
    "# Импортируем библиотеки\n",
    "import pandas as pd\n",
    "import teradata\n",
    "from datetime import datetime"
   ]
  },
  {
   "cell_type": "code",
   "execution_count": 2,
   "id": "92074fc6",
   "metadata": {},
   "outputs": [],
   "source": [
    "# Задаем свои параметры подключения\n",
    "host = 'teradata'\n",
    "username = ''\n",
    "password = ''"
   ]
  },
  {
   "cell_type": "code",
   "execution_count": 3,
   "id": "4490dda5",
   "metadata": {},
   "outputs": [],
   "source": [
    "# Строка подключения\n",
    "connection_string = teradata.UdaExec (appName=\"test\", version=\"1.0\", logConsole=False)"
   ]
  },
  {
   "cell_type": "code",
   "execution_count": 4,
   "id": "9f01066b",
   "metadata": {},
   "outputs": [],
   "source": [
    "# Установка соединения\n",
    "connect = connection_string.connect(method=\"odbc\",system=host, username=username, password=password,\n",
    "                    driver=\"Teradata Database ODBC Driver 16.20\",\n",
    "                    MechanismName='LDAP',charset = 'UTF16')"
   ]
  },
  {
   "cell_type": "code",
   "execution_count": 5,
   "id": "c14ff003",
   "metadata": {},
   "outputs": [],
   "source": [
    "# SQL-запрос\n",
    "query = '''select * from table'''"
   ]
  },
  {
   "cell_type": "code",
   "execution_count": 6,
   "id": "6dbed953",
   "metadata": {},
   "outputs": [
    {
     "name": "stderr",
     "output_type": "stream",
     "text": [
      "C:\\ProgramData\\Anaconda3\\lib\\site-packages\\pandas\\io\\sql.py:762: UserWarning: pandas only support SQLAlchemy connectable(engine/connection) ordatabase string URI or sqlite3 DBAPI2 connectionother DBAPI2 objects are not tested, please consider using SQLAlchemy\n",
      "  warnings.warn(\n"
     ]
    }
   ],
   "source": [
    "# Загрузка данных в DataFrame\n",
    "df = pd.read_sql(query,connect)"
   ]
  },
  {
   "cell_type": "code",
   "execution_count": 7,
   "id": "c3ea6324",
   "metadata": {},
   "outputs": [],
   "source": [
    "# Текущая дата\n",
    "current_datetime = datetime.today().strftime('%d-%m-%Y')"
   ]
  },
  {
   "cell_type": "code",
   "execution_count": 8,
   "id": "80e9fd60",
   "metadata": {},
   "outputs": [],
   "source": [
    "# Сохранить df с текущей датой\n",
    "df.to_excel(r'e:\\Users\\mydata_{}.xlsx'.format(current_datetime),index=False)"
   ]
  }
 ],
 "metadata": {
  "kernelspec": {
   "display_name": "Python 3 (ipykernel)",
   "language": "python",
   "name": "python3"
  },
  "language_info": {
   "codemirror_mode": {
    "name": "ipython",
    "version": 3
   },
   "file_extension": ".py",
   "mimetype": "text/x-python",
   "name": "python",
   "nbconvert_exporter": "python",
   "pygments_lexer": "ipython3",
   "version": "3.9.13"
  }
 },
 "nbformat": 4,
 "nbformat_minor": 5
}
